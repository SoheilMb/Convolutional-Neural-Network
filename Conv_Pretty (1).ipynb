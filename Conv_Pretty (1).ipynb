{
  "nbformat": 4,
  "nbformat_minor": 0,
  "metadata": {
    "colab": {
      "name": "Conv_Pretty.ipynb",
      "provenance": [],
      "collapsed_sections": []
    },
    "kernelspec": {
      "name": "python3",
      "display_name": "Python 3"
    },
    "language_info": {
      "name": "python"
    },
    "accelerator": "GPU"
  },
  "cells": [
    {
      "cell_type": "code",
      "execution_count": 52,
      "metadata": {
        "id": "3Umtd3V6snHg"
      },
      "outputs": [],
      "source": [
        "\n",
        "import numpy as np\n",
        "import pandas as pd\n",
        "from sklearn.model_selection import train_test_split\n",
        "from sklearn import preprocessing\n",
        "from keras.models import Sequential\n",
        "from keras.layers import Dense\n",
        "import matplotlib.pyplot as plt\n",
        "from keras import metrics\n",
        "from sklearn.preprocessing import MinMaxScaler\n",
        "from keras.models import Sequential\n",
        "from keras.layers import Dense,Dropout,LSTM\n",
        "from keras.layers import Dense, Conv1D,Flatten,GlobalAveragePooling1D,MaxPooling1D\n",
        "from sklearn.metrics import mean_squared_error\n",
        "from tensorflow.keras.optimizers import Adam\n",
        "from tensorflow.keras.optimizers import SGD\n",
        "from sklearn.metrics import r2_score\n",
        "from sklearn.preprocessing import StandardScaler\n",
        "from keras.callbacks import ModelCheckpoint\n",
        "from tensorflow import keras\n",
        "import tensorflow as tf\n",
        "from tensorflow import keras\n",
        "from tensorflow.keras import layers\n",
        "from keras.layers import GaussianNoise\n",
        "import h5py\n",
        "from keras.models import model_from_json\n",
        "import pathlib\n",
        "import os\n",
        "from collections import Counter\n"
      ]
    },
    {
      "cell_type": "markdown",
      "source": [
        "#Read the Data"
      ],
      "metadata": {
        "id": "9iGF-IvouoxK"
      }
    },
    {
      "cell_type": "code",
      "source": [
        "\n",
        "#Read CSV file containing all the data\n",
        "\n",
        "filepath=r\"/content/All_results_6000.csv\"\n",
        "\n",
        "#Skip first two rows which contain the titles and col names\n",
        "df=pd.read_csv(filepath,skiprows=2)\n"
      ],
      "metadata": {
        "id": "776JWfYyuhXQ"
      },
      "execution_count": 53,
      "outputs": []
    },
    {
      "cell_type": "markdown",
      "source": [
        "#Either select all available rows or skip some of them"
      ],
      "metadata": {
        "id": "sTOjSKARusJl"
      }
    },
    {
      "cell_type": "markdown",
      "source": [
        "**Case1**: Select all available rows"
      ],
      "metadata": {
        "id": "4UXpYjhBvO8Y"
      }
    },
    {
      "cell_type": "code",
      "source": [
        "\n",
        "\n",
        "#Select all columns parrallel to the X direction\n",
        "\n",
        "filter_colX = [col for col in df if col.endswith('to X')]\n",
        "\n",
        "\n",
        "# Mean value of strain for columns parallel to x: 0.000185\n",
        "#Se lo restamos a las columnas paralelas al X\n",
        "\n",
        "for col in filter_colX:\n",
        "  df[col]=df[col]-0.000185\n",
        "\n",
        "\n",
        "\n",
        "\n",
        "#el valor medio del strain para los valores 'parallel to Y' es :   df[col]=df[col]-0.00006985\n",
        "\n",
        "\n",
        "#Select all columns parrallel to the Y direction\n",
        "filter_colY = [col for col in df if col.endswith('to Y')]\n",
        "\n",
        "\n",
        "for col in filter_colY:\n",
        "  df[col]=df[col]-0.00006985\n",
        "\n",
        "\n",
        "\n",
        "\n",
        "\n",
        "\n",
        "\n",
        "# The model input will consist of all the columns parallel to X and Y directions\n",
        "\n",
        "input_cols=[]\n",
        "input_cols= filter_colX+ filter_colY\n",
        "\n",
        "\n",
        "\n",
        "# Definne the target columns: Defect Lx, Defect Ly, Defect Center X Coord, Defect Center Y Coord\n",
        "target_cols= []\n",
        "\n",
        "\n",
        "#Los columnas que contiene el output \n",
        "for col in df.columns:\n",
        "  if col not in input_cols:\n",
        "    target_cols.append(col)\n",
        "\n",
        "\n",
        "\n",
        "y=df[target_cols].values\n",
        "X= df[input_cols].values\n",
        "\n",
        "\n",
        "print(\"input_features: \",X.shape[1])\n",
        "\n",
        "\n"
      ],
      "metadata": {
        "colab": {
          "base_uri": "https://localhost:8080/"
        },
        "id": "DJngFD-wu3Z5",
        "outputId": "dfa939f6-f97a-4e0c-bbbc-cc870866f3a3"
      },
      "execution_count": 54,
      "outputs": [
        {
          "output_type": "stream",
          "name": "stdout",
          "text": [
            "input_features:  66\n"
          ]
        }
      ]
    },
    {
      "cell_type": "markdown",
      "source": [
        "# Select number of rows (Random Selection)"
      ],
      "metadata": {
        "id": "ArenvW_J4viX"
      }
    },
    {
      "cell_type": "code",
      "source": [
        "df = df.sample(n=6000)\n",
        "df.shape"
      ],
      "metadata": {
        "colab": {
          "base_uri": "https://localhost:8080/"
        },
        "id": "cTxdDHMp4BV1",
        "outputId": "70dfb553-f7f4-4f7a-ea3c-918081f4d840"
      },
      "execution_count": 55,
      "outputs": [
        {
          "output_type": "execute_result",
          "data": {
            "text/plain": [
              "(6000, 70)"
            ]
          },
          "metadata": {},
          "execution_count": 55
        }
      ]
    },
    {
      "cell_type": "markdown",
      "source": [
        "**Case2**: Don't select all available rows"
      ],
      "metadata": {
        "id": "H7Fs85vVwqZV"
      }
    },
    {
      "cell_type": "code",
      "source": [
        "\n",
        "#filterx=[0,2,4,6,8,10,12,14,16,18,20,22,24,26,28,30]\n",
        "\n",
        "\n",
        "#filtered_listX=[]\n",
        "#for item in filterx:\n",
        "#  tmp= \"ply-11-\"+str(item)+\"-parallel to X\"\n",
        "#  filtered_listX.append(tmp)\n",
        "\n",
        "\n",
        "\n",
        "#for col in filtered_listX:\n",
        "#  df[col]=df[col]-0.000185\n",
        "\n",
        "\n",
        "\n",
        "\n",
        "#el valor medio del strain para los valores 'parallel to Y' es :   df[col]=df[col]-0.00006985\n",
        "\n",
        "\n",
        "\n",
        "\n",
        "\n",
        "\n",
        "\n",
        "#filtery=target_cols=[0,2,4,6,8,10,12,14,16,18,20,22,24,26,28,30,32,34]\n",
        "\n",
        "\n",
        "#filtered_listY=[]\n",
        "#for item in filterx:\n",
        "#  tmp= \"ply-11-\"+str(item)+\"-parallel to Y\"\n",
        "#  filtered_listY.append(tmp)\n",
        "\n",
        "\n",
        "\n",
        "\n",
        "##################################\n",
        "##################################\n",
        "# En caso de querer filtrar y obtener solo las columnas pares\n",
        "\n",
        "#pattern= \".*[02468]+[^13579]\"\n",
        "\n",
        "\n",
        "#r = re.compile(pattern)\n",
        "#filtered_listY = list(filter(r.match, filter_colY))\n",
        "\n",
        "\n",
        "\n",
        "\n",
        "\n",
        "\n",
        "\n",
        "#for col in filtered_listY:\n",
        "#  df[col]=df[col]-0.00006985\n",
        "\n",
        "##################################\n",
        "##################################\n",
        "\n",
        "\n",
        "\n",
        "\n",
        "#input_cols=[]\n",
        "\n",
        "\n",
        "\n",
        "#input_cols= filter_colX+ filter_colY\n",
        "\n",
        "#input_cols=filtered_listY+filtered_listY\n",
        "\n",
        "\n",
        "#target_cols=[]\n",
        "\n",
        "\n",
        "\n",
        "#Los columnas que contiene el output \n",
        "#for col in df.columns:\n",
        "#  if col not in input_cols:\n",
        "#    target_cols.append(col)\n",
        "\n",
        "\n",
        "\n",
        "#y=df[target_cols].values\n",
        "#X= df[input_cols].values\n"
      ],
      "metadata": {
        "id": "GCys_lClw0jF"
      },
      "execution_count": 41,
      "outputs": []
    },
    {
      "cell_type": "markdown",
      "source": [
        "#Train, Test Split"
      ],
      "metadata": {
        "id": "8eIGUniIxo7L"
      }
    },
    {
      "cell_type": "code",
      "source": [
        "\n",
        "\n",
        "x_train,x_test,y_train,y_test= train_test_split (X,y,test_size=0.1,random_state=42)\n",
        "\n",
        "\n",
        "x_train=np.array(x_train)\n",
        "x_test=np.array(x_test)\n",
        "y_train=np.array(y_train)\n",
        "y_test=np.array(y_test)\n",
        "\n",
        "\n"
      ],
      "metadata": {
        "id": "rCnl43-8xumL"
      },
      "execution_count": 56,
      "outputs": []
    },
    {
      "cell_type": "markdown",
      "source": [
        "#Data Scaling\n",
        "- It transforms the data in such a manner that it has mean as 0 and standard deviation as 1.\n",
        "\n",
        "- In short, it standardizes the data. Standardization is useful for data which has negative values. \n",
        "\n",
        "- It arranges the data in a standard normal distribution."
      ],
      "metadata": {
        "id": "pnQlqMz7x4Su"
      }
    },
    {
      "cell_type": "code",
      "source": [
        "\n",
        "#It transforms the data in such a manner that it has mean as 0 and standard deviation as 1.\n",
        "#In short, it standardizes the data. Standardization is useful for data which has negative values. \n",
        "#It arranges the data in a standard normal distribution.\n",
        "sc_X = StandardScaler()\n",
        "x_train = sc_X.fit_transform(x_train)\n",
        "x_test = sc_X.transform(x_test)\n",
        "\n",
        "\n",
        "\n",
        "sample_size = x_train.shape[0] # number of samples in train set\n",
        "features  = x_train.shape[1] # number of features in train set\n",
        "input_dimension = 1               # each feature is represented by 1 number\n",
        "\n",
        "x_train = x_train.reshape(sample_size,features,input_dimension)\n",
        "\n",
        "\n",
        "\n",
        "\n",
        "\n",
        "\n",
        "x_test=x_test.reshape(x_test.shape[0], x_test.shape[1], 1)\n",
        "\n",
        "\n",
        "\n",
        "\n",
        "\n",
        "\n",
        "\n",
        "scalery = StandardScaler()\n",
        "y_train=scalery.fit_transform(y_train.reshape(-1,y_test.shape[1]))\n",
        "y_test = scalery.transform(y_test.reshape(-1,y_train.shape[1]))\n",
        "\n",
        "\n",
        "\n",
        "\n",
        "\n",
        "print(\"input_shape: (\", x_train.shape[1], x_train.shape[2], \")\")\n",
        "\n",
        "print(\"output_shape: (\", y_train.shape[1])\n"
      ],
      "metadata": {
        "colab": {
          "base_uri": "https://localhost:8080/"
        },
        "id": "fxV6IVNMx3Ro",
        "outputId": "0f9dbf7d-720f-415f-9b48-aedad4998a6a"
      },
      "execution_count": 57,
      "outputs": [
        {
          "output_type": "stream",
          "name": "stdout",
          "text": [
            "input_shape: ( 66 1 )\n",
            "output_shape: ( 4\n"
          ]
        }
      ]
    },
    {
      "cell_type": "markdown",
      "source": [
        "# DEFINE THE KERAS MODEL"
      ],
      "metadata": {
        "id": "twSe-MyUydVx"
      }
    },
    {
      "cell_type": "code",
      "source": [
        "\n",
        "\n",
        "class CustomModel():\n",
        "    def __init__(self,input_shape,output_dim,lr,decay_rate):\n",
        "        self.input_shape=input_shape  # (dimensions,1)\n",
        "        self.output_dim=output_dim\n",
        "        self.lr=lr\n",
        "        self.decay_rate= decay_rate\n",
        "        self.model=None\n",
        "        self.build()\n",
        "\n",
        "\n",
        "    def build(self):\n",
        "      #self.model.add(keras.layers.Input(shape=(72,1)))\n",
        "      inputs=tf.keras.Input(self.input_shape,name='input')\n",
        "\n",
        "      #Conv Layer 1\n",
        "      conv_1= layers.Conv1D(filters=64, kernel_size=3, padding='valid',name='conv_1')(inputs)\n",
        "      conv_1= layers.BatchNormalization()(conv_1)\n",
        "      conv_1= layers.Activation('relu')(conv_1)\n",
        "      pool_1=layers.MaxPooling1D(pool_size= 2,name= 'pool_1')(conv_1)\n",
        "\n",
        "\n",
        "      #Conv Layer 2\n",
        "      conv_2= layers.Conv1D(filters=64, kernel_size=3, padding='valid',name='conv_2')(pool_1)\n",
        "      conv_2= layers.BatchNormalization()(conv_2)\n",
        "      conv_2= layers.Activation('relu')(conv_2)\n",
        "      pool_2=layers.MaxPooling1D(pool_size= 2,name= 'pool_2')(conv_2)\n",
        "\n",
        "\n",
        "      #Conv Layer 3\n",
        "      conv_3= layers.Conv1D(filters=64, kernel_size=3, padding='valid',name='conv_3')(pool_2)\n",
        "      conv_3= layers.BatchNormalization()(conv_3)\n",
        "      conv_3= layers.Activation('relu')(conv_3)\n",
        "      pool_3=layers.MaxPooling1D(pool_size= 2,name= 'pool_3')(conv_3)\n",
        "\n",
        "\n",
        "      #Flattening\n",
        "      flat= layers.Flatten(name='flatten')(pool_3)\n",
        "\n",
        "\n",
        "      #Dropout\n",
        "      flat=layers.Dropout(0.1)(flat)\n",
        "\n",
        "\n",
        "      #Fully-connected\n",
        "\n",
        "      dense=layers.Dense(32,activation='softmax')(flat)\n",
        "\n",
        "      outputs=layers.Dense(4)(dense)\n",
        "\n",
        "\n",
        "     #Build model\n",
        "\n",
        "      self.model=tf.keras.Model(inputs=inputs,outputs=outputs,name='CNN')\n",
        "\n",
        "\n",
        "\n",
        "      self.model.compile(loss=\"mean_squared_error\",optimizer=SGD(learning_rate=self.lr,decay=self.decay_rate),\\\n",
        "                    metrics=['accuracy',metrics.mean_squared_error, metrics.mean_absolute_error, \\\n",
        "                             metrics.mean_absolute_percentage_error, metrics.cosine_proximity])\n",
        "      \n",
        "      self.model.summary()\n",
        "      return self.model\n",
        "\n",
        "\n",
        "\n",
        "\n",
        "\n",
        "\n",
        "    def Fit(self,X_train,Y_train,batch_size,epochs,validation_data):\n",
        "      history=self.model.fit(X_train,Y_train,batch_size=batch_size,validation_data=validation_data,epochs=epochs)\n",
        "      return history\n",
        "\n",
        "\n",
        "\n",
        "\n",
        "    def Predict(self,X_test):\n",
        "      return(self.model.predict(X_test))\n",
        "\n",
        "    def Evaluate(self,X_test, Y_test):\n",
        "      batch_size=128\n",
        "      return self.model.evaluate(x_test, y_test, batch_size)\n",
        "\n",
        "    \n",
        "    def History(self,key):\n",
        "      #return history.history.keys()\n",
        "      return history.history[key]\n",
        "      #print(history.history.keys())\n",
        "     # print(history.history())\n",
        "\n",
        "    "
      ],
      "metadata": {
        "id": "YnorraC9zLem"
      },
      "execution_count": 58,
      "outputs": []
    },
    {
      "cell_type": "markdown",
      "source": [
        "#Define Model Parameters"
      ],
      "metadata": {
        "id": "a5aWd361Gnox"
      }
    },
    {
      "cell_type": "code",
      "source": [
        "\n",
        "epochs=1000\n",
        "\n",
        "lr=0.1\n",
        "\n",
        "decay_rate=1E-6\n",
        "\n",
        "batch_size=32\n",
        "\n",
        "validation_data=(x_test, y_test)\n",
        "input_shape=(x_train.shape[1],x_train.shape[2])\n",
        "output_dim= y_train.shape[1]\n",
        "\n",
        "model = CustomModel(input_shape,output_dim,lr,decay_rate)\n",
        "\n",
        "\n",
        "\n",
        "\n"
      ],
      "metadata": {
        "colab": {
          "base_uri": "https://localhost:8080/"
        },
        "id": "jF57Ka3D4jeh",
        "outputId": "3c4a35f9-199a-410c-e4d2-1479a5b360b3"
      },
      "execution_count": 59,
      "outputs": [
        {
          "output_type": "stream",
          "name": "stdout",
          "text": [
            "Model: \"CNN\"\n",
            "_________________________________________________________________\n",
            " Layer (type)                Output Shape              Param #   \n",
            "=================================================================\n",
            " input (InputLayer)          [(None, 66, 1)]           0         \n",
            "                                                                 \n",
            " conv_1 (Conv1D)             (None, 64, 64)            256       \n",
            "                                                                 \n",
            " batch_normalization_16 (Bat  (None, 64, 64)           256       \n",
            " chNormalization)                                                \n",
            "                                                                 \n",
            " activation_12 (Activation)  (None, 64, 64)            0         \n",
            "                                                                 \n",
            " pool_1 (MaxPooling1D)       (None, 32, 64)            0         \n",
            "                                                                 \n",
            " conv_2 (Conv1D)             (None, 30, 64)            12352     \n",
            "                                                                 \n",
            " batch_normalization_17 (Bat  (None, 30, 64)           256       \n",
            " chNormalization)                                                \n",
            "                                                                 \n",
            " activation_13 (Activation)  (None, 30, 64)            0         \n",
            "                                                                 \n",
            " pool_2 (MaxPooling1D)       (None, 15, 64)            0         \n",
            "                                                                 \n",
            " conv_3 (Conv1D)             (None, 13, 64)            12352     \n",
            "                                                                 \n",
            " batch_normalization_18 (Bat  (None, 13, 64)           256       \n",
            " chNormalization)                                                \n",
            "                                                                 \n",
            " activation_14 (Activation)  (None, 13, 64)            0         \n",
            "                                                                 \n",
            " pool_3 (MaxPooling1D)       (None, 6, 64)             0         \n",
            "                                                                 \n",
            " flatten (Flatten)           (None, 384)               0         \n",
            "                                                                 \n",
            " dropout_4 (Dropout)         (None, 384)               0         \n",
            "                                                                 \n",
            " dense_8 (Dense)             (None, 32)                12320     \n",
            "                                                                 \n",
            " dense_9 (Dense)             (None, 4)                 132       \n",
            "                                                                 \n",
            "=================================================================\n",
            "Total params: 38,180\n",
            "Trainable params: 37,796\n",
            "Non-trainable params: 384\n",
            "_________________________________________________________________\n"
          ]
        }
      ]
    },
    {
      "cell_type": "code",
      "source": [
        "history= model.Fit(x_train,y_train,batch_size,epochs,validation_data)"
      ],
      "metadata": {
        "id": "2TvQ2TcX69U8",
        "colab": {
          "base_uri": "https://localhost:8080/"
        },
        "outputId": "da708779-db25-4f81-97e2-457359ea0726"
      },
      "execution_count": null,
      "outputs": [
        {
          "output_type": "stream",
          "name": "stdout",
          "text": [
            "Epoch 1/1000\n",
            "169/169 [==============================] - 2s 8ms/step - loss: 0.6454 - accuracy: 0.4980 - mean_squared_error: 0.6454 - mean_absolute_error: 0.6660 - mean_absolute_percentage_error: 173.0740 - cosine_proximity: 0.6890 - val_loss: 0.8780 - val_accuracy: 0.5067 - val_mean_squared_error: 0.8780 - val_mean_absolute_error: 0.8061 - val_mean_absolute_percentage_error: 112.7022 - val_cosine_proximity: 0.6009\n",
            "Epoch 2/1000\n",
            "169/169 [==============================] - 1s 6ms/step - loss: 0.4427 - accuracy: 0.5676 - mean_squared_error: 0.4427 - mean_absolute_error: 0.5293 - mean_absolute_percentage_error: 207.4218 - cosine_proximity: 0.7891 - val_loss: 0.4792 - val_accuracy: 0.6067 - val_mean_squared_error: 0.4792 - val_mean_absolute_error: 0.5618 - val_mean_absolute_percentage_error: 105.7249 - val_cosine_proximity: 0.8222\n",
            "Epoch 3/1000\n",
            "169/169 [==============================] - 1s 6ms/step - loss: 0.3735 - accuracy: 0.5978 - mean_squared_error: 0.3735 - mean_absolute_error: 0.4740 - mean_absolute_percentage_error: 186.8718 - cosine_proximity: 0.8195 - val_loss: 0.3488 - val_accuracy: 0.6633 - val_mean_squared_error: 0.3488 - val_mean_absolute_error: 0.4544 - val_mean_absolute_percentage_error: 126.6368 - val_cosine_proximity: 0.8429\n",
            "Epoch 4/1000\n",
            "169/169 [==============================] - 1s 6ms/step - loss: 0.3355 - accuracy: 0.6178 - mean_squared_error: 0.3355 - mean_absolute_error: 0.4424 - mean_absolute_percentage_error: 195.5005 - cosine_proximity: 0.8393 - val_loss: 0.3050 - val_accuracy: 0.6050 - val_mean_squared_error: 0.3050 - val_mean_absolute_error: 0.4112 - val_mean_absolute_percentage_error: 132.1351 - val_cosine_proximity: 0.8605\n",
            "Epoch 5/1000\n",
            "169/169 [==============================] - 1s 6ms/step - loss: 0.3054 - accuracy: 0.6367 - mean_squared_error: 0.3054 - mean_absolute_error: 0.4211 - mean_absolute_percentage_error: 194.4460 - cosine_proximity: 0.8556 - val_loss: 0.2609 - val_accuracy: 0.7083 - val_mean_squared_error: 0.2609 - val_mean_absolute_error: 0.3817 - val_mean_absolute_percentage_error: 109.8865 - val_cosine_proximity: 0.8899\n",
            "Epoch 6/1000\n",
            "169/169 [==============================] - 1s 6ms/step - loss: 0.2836 - accuracy: 0.6756 - mean_squared_error: 0.2836 - mean_absolute_error: 0.4041 - mean_absolute_percentage_error: 191.0581 - cosine_proximity: 0.8690 - val_loss: 0.2431 - val_accuracy: 0.7467 - val_mean_squared_error: 0.2431 - val_mean_absolute_error: 0.3724 - val_mean_absolute_percentage_error: 108.8727 - val_cosine_proximity: 0.8988\n",
            "Epoch 7/1000\n",
            "169/169 [==============================] - 1s 7ms/step - loss: 0.2588 - accuracy: 0.6930 - mean_squared_error: 0.2588 - mean_absolute_error: 0.3847 - mean_absolute_percentage_error: 191.2694 - cosine_proximity: 0.8829 - val_loss: 0.2388 - val_accuracy: 0.7083 - val_mean_squared_error: 0.2388 - val_mean_absolute_error: 0.3657 - val_mean_absolute_percentage_error: 112.8281 - val_cosine_proximity: 0.8968\n",
            "Epoch 8/1000\n",
            "169/169 [==============================] - 1s 6ms/step - loss: 0.2450 - accuracy: 0.7220 - mean_squared_error: 0.2450 - mean_absolute_error: 0.3748 - mean_absolute_percentage_error: 193.1111 - cosine_proximity: 0.8900 - val_loss: 0.2571 - val_accuracy: 0.7117 - val_mean_squared_error: 0.2571 - val_mean_absolute_error: 0.3965 - val_mean_absolute_percentage_error: 135.4326 - val_cosine_proximity: 0.8798\n",
            "Epoch 9/1000\n",
            "169/169 [==============================] - 1s 7ms/step - loss: 0.2294 - accuracy: 0.7306 - mean_squared_error: 0.2294 - mean_absolute_error: 0.3625 - mean_absolute_percentage_error: 177.7671 - cosine_proximity: 0.8966 - val_loss: 0.2128 - val_accuracy: 0.7350 - val_mean_squared_error: 0.2128 - val_mean_absolute_error: 0.3486 - val_mean_absolute_percentage_error: 100.5732 - val_cosine_proximity: 0.9092\n",
            "Epoch 10/1000\n",
            "169/169 [==============================] - 1s 6ms/step - loss: 0.2181 - accuracy: 0.7459 - mean_squared_error: 0.2181 - mean_absolute_error: 0.3517 - mean_absolute_percentage_error: 162.7918 - cosine_proximity: 0.9032 - val_loss: 0.1915 - val_accuracy: 0.7683 - val_mean_squared_error: 0.1915 - val_mean_absolute_error: 0.3283 - val_mean_absolute_percentage_error: 120.5803 - val_cosine_proximity: 0.9172\n",
            "Epoch 11/1000\n",
            "169/169 [==============================] - 1s 6ms/step - loss: 0.2048 - accuracy: 0.7641 - mean_squared_error: 0.2048 - mean_absolute_error: 0.3407 - mean_absolute_percentage_error: 169.3101 - cosine_proximity: 0.9091 - val_loss: 0.1776 - val_accuracy: 0.8017 - val_mean_squared_error: 0.1776 - val_mean_absolute_error: 0.3152 - val_mean_absolute_percentage_error: 90.2928 - val_cosine_proximity: 0.9310\n",
            "Epoch 12/1000\n",
            "169/169 [==============================] - 1s 6ms/step - loss: 0.1870 - accuracy: 0.7757 - mean_squared_error: 0.1870 - mean_absolute_error: 0.3255 - mean_absolute_percentage_error: 153.3761 - cosine_proximity: 0.9183 - val_loss: 0.2228 - val_accuracy: 0.7700 - val_mean_squared_error: 0.2228 - val_mean_absolute_error: 0.3474 - val_mean_absolute_percentage_error: 118.2463 - val_cosine_proximity: 0.9009\n",
            "Epoch 13/1000\n",
            "169/169 [==============================] - 1s 6ms/step - loss: 0.1794 - accuracy: 0.7789 - mean_squared_error: 0.1794 - mean_absolute_error: 0.3169 - mean_absolute_percentage_error: 169.2307 - cosine_proximity: 0.9211 - val_loss: 0.1497 - val_accuracy: 0.8200 - val_mean_squared_error: 0.1497 - val_mean_absolute_error: 0.2770 - val_mean_absolute_percentage_error: 88.5003 - val_cosine_proximity: 0.9423\n",
            "Epoch 14/1000\n",
            "169/169 [==============================] - 1s 6ms/step - loss: 0.1737 - accuracy: 0.7830 - mean_squared_error: 0.1737 - mean_absolute_error: 0.3119 - mean_absolute_percentage_error: 160.4108 - cosine_proximity: 0.9239 - val_loss: 0.1448 - val_accuracy: 0.7967 - val_mean_squared_error: 0.1448 - val_mean_absolute_error: 0.2723 - val_mean_absolute_percentage_error: 101.9826 - val_cosine_proximity: 0.9429\n",
            "Epoch 15/1000\n",
            "169/169 [==============================] - 1s 7ms/step - loss: 0.1655 - accuracy: 0.7926 - mean_squared_error: 0.1655 - mean_absolute_error: 0.3038 - mean_absolute_percentage_error: 147.4229 - cosine_proximity: 0.9279 - val_loss: 0.1380 - val_accuracy: 0.8400 - val_mean_squared_error: 0.1380 - val_mean_absolute_error: 0.2684 - val_mean_absolute_percentage_error: 85.0109 - val_cosine_proximity: 0.9497\n",
            "Epoch 16/1000\n",
            "169/169 [==============================] - 1s 6ms/step - loss: 0.1536 - accuracy: 0.7989 - mean_squared_error: 0.1536 - mean_absolute_error: 0.2915 - mean_absolute_percentage_error: 133.7288 - cosine_proximity: 0.9336 - val_loss: 0.1995 - val_accuracy: 0.7933 - val_mean_squared_error: 0.1995 - val_mean_absolute_error: 0.3217 - val_mean_absolute_percentage_error: 113.7753 - val_cosine_proximity: 0.9084\n",
            "Epoch 17/1000\n",
            "169/169 [==============================] - 1s 7ms/step - loss: 0.1515 - accuracy: 0.8011 - mean_squared_error: 0.1515 - mean_absolute_error: 0.2884 - mean_absolute_percentage_error: 142.2903 - cosine_proximity: 0.9340 - val_loss: 0.2482 - val_accuracy: 0.7717 - val_mean_squared_error: 0.2482 - val_mean_absolute_error: 0.3651 - val_mean_absolute_percentage_error: 160.8775 - val_cosine_proximity: 0.8868\n",
            "Epoch 18/1000\n",
            "169/169 [==============================] - 1s 6ms/step - loss: 0.1385 - accuracy: 0.8174 - mean_squared_error: 0.1385 - mean_absolute_error: 0.2738 - mean_absolute_percentage_error: 139.8534 - cosine_proximity: 0.9403 - val_loss: 0.1164 - val_accuracy: 0.8583 - val_mean_squared_error: 0.1164 - val_mean_absolute_error: 0.2428 - val_mean_absolute_percentage_error: 73.9530 - val_cosine_proximity: 0.9599\n",
            "Epoch 19/1000\n",
            "169/169 [==============================] - 1s 6ms/step - loss: 0.1348 - accuracy: 0.8235 - mean_squared_error: 0.1348 - mean_absolute_error: 0.2700 - mean_absolute_percentage_error: 123.2673 - cosine_proximity: 0.9415 - val_loss: 0.1293 - val_accuracy: 0.8500 - val_mean_squared_error: 0.1293 - val_mean_absolute_error: 0.2613 - val_mean_absolute_percentage_error: 96.0644 - val_cosine_proximity: 0.9473\n",
            "Epoch 20/1000\n",
            "169/169 [==============================] - 1s 6ms/step - loss: 0.1303 - accuracy: 0.8243 - mean_squared_error: 0.1303 - mean_absolute_error: 0.2649 - mean_absolute_percentage_error: 135.5833 - cosine_proximity: 0.9441 - val_loss: 0.1363 - val_accuracy: 0.8417 - val_mean_squared_error: 0.1363 - val_mean_absolute_error: 0.2698 - val_mean_absolute_percentage_error: 92.8072 - val_cosine_proximity: 0.9445\n",
            "Epoch 21/1000\n",
            "169/169 [==============================] - 1s 6ms/step - loss: 0.1276 - accuracy: 0.8239 - mean_squared_error: 0.1276 - mean_absolute_error: 0.2615 - mean_absolute_percentage_error: 122.4032 - cosine_proximity: 0.9448 - val_loss: 0.0973 - val_accuracy: 0.8783 - val_mean_squared_error: 0.0973 - val_mean_absolute_error: 0.2121 - val_mean_absolute_percentage_error: 67.6581 - val_cosine_proximity: 0.9629\n",
            "Epoch 22/1000\n",
            "169/169 [==============================] - 1s 6ms/step - loss: 0.1203 - accuracy: 0.8263 - mean_squared_error: 0.1203 - mean_absolute_error: 0.2530 - mean_absolute_percentage_error: 112.7127 - cosine_proximity: 0.9480 - val_loss: 0.0973 - val_accuracy: 0.8600 - val_mean_squared_error: 0.0973 - val_mean_absolute_error: 0.2202 - val_mean_absolute_percentage_error: 69.7909 - val_cosine_proximity: 0.9628\n",
            "Epoch 23/1000\n",
            "169/169 [==============================] - 1s 7ms/step - loss: 0.1135 - accuracy: 0.8270 - mean_squared_error: 0.1135 - mean_absolute_error: 0.2469 - mean_absolute_percentage_error: 118.8740 - cosine_proximity: 0.9515 - val_loss: 0.1019 - val_accuracy: 0.8800 - val_mean_squared_error: 0.1019 - val_mean_absolute_error: 0.2182 - val_mean_absolute_percentage_error: 72.3418 - val_cosine_proximity: 0.9593\n",
            "Epoch 24/1000\n",
            "169/169 [==============================] - 1s 7ms/step - loss: 0.1116 - accuracy: 0.8294 - mean_squared_error: 0.1116 - mean_absolute_error: 0.2434 - mean_absolute_percentage_error: 125.1794 - cosine_proximity: 0.9519 - val_loss: 0.1048 - val_accuracy: 0.8417 - val_mean_squared_error: 0.1048 - val_mean_absolute_error: 0.2275 - val_mean_absolute_percentage_error: 93.3411 - val_cosine_proximity: 0.9554\n",
            "Epoch 25/1000\n",
            "169/169 [==============================] - 1s 6ms/step - loss: 0.1063 - accuracy: 0.8396 - mean_squared_error: 0.1063 - mean_absolute_error: 0.2370 - mean_absolute_percentage_error: 118.9650 - cosine_proximity: 0.9552 - val_loss: 0.0935 - val_accuracy: 0.8650 - val_mean_squared_error: 0.0935 - val_mean_absolute_error: 0.2159 - val_mean_absolute_percentage_error: 74.8939 - val_cosine_proximity: 0.9637\n",
            "Epoch 26/1000\n",
            "169/169 [==============================] - 1s 7ms/step - loss: 0.1080 - accuracy: 0.8419 - mean_squared_error: 0.1080 - mean_absolute_error: 0.2396 - mean_absolute_percentage_error: 120.9765 - cosine_proximity: 0.9533 - val_loss: 0.0880 - val_accuracy: 0.8517 - val_mean_squared_error: 0.0880 - val_mean_absolute_error: 0.2029 - val_mean_absolute_percentage_error: 71.4476 - val_cosine_proximity: 0.9647\n",
            "Epoch 27/1000\n",
            "169/169 [==============================] - 1s 7ms/step - loss: 0.1022 - accuracy: 0.8407 - mean_squared_error: 0.1022 - mean_absolute_error: 0.2327 - mean_absolute_percentage_error: 121.6191 - cosine_proximity: 0.9558 - val_loss: 0.0843 - val_accuracy: 0.8683 - val_mean_squared_error: 0.0843 - val_mean_absolute_error: 0.2039 - val_mean_absolute_percentage_error: 86.9057 - val_cosine_proximity: 0.9655\n",
            "Epoch 28/1000\n",
            "169/169 [==============================] - 1s 7ms/step - loss: 0.0978 - accuracy: 0.8456 - mean_squared_error: 0.0978 - mean_absolute_error: 0.2263 - mean_absolute_percentage_error: 113.9151 - cosine_proximity: 0.9580 - val_loss: 0.0802 - val_accuracy: 0.8617 - val_mean_squared_error: 0.0802 - val_mean_absolute_error: 0.1945 - val_mean_absolute_percentage_error: 65.9695 - val_cosine_proximity: 0.9696\n",
            "Epoch 29/1000\n",
            "169/169 [==============================] - 1s 7ms/step - loss: 0.0991 - accuracy: 0.8533 - mean_squared_error: 0.0991 - mean_absolute_error: 0.2267 - mean_absolute_percentage_error: 118.2542 - cosine_proximity: 0.9580 - val_loss: 0.0997 - val_accuracy: 0.8633 - val_mean_squared_error: 0.0997 - val_mean_absolute_error: 0.2326 - val_mean_absolute_percentage_error: 104.6128 - val_cosine_proximity: 0.9592\n",
            "Epoch 30/1000\n",
            "169/169 [==============================] - 1s 7ms/step - loss: 0.0940 - accuracy: 0.8481 - mean_squared_error: 0.0940 - mean_absolute_error: 0.2211 - mean_absolute_percentage_error: 122.4226 - cosine_proximity: 0.9604 - val_loss: 0.0851 - val_accuracy: 0.8883 - val_mean_squared_error: 0.0851 - val_mean_absolute_error: 0.2037 - val_mean_absolute_percentage_error: 62.6252 - val_cosine_proximity: 0.9662\n",
            "Epoch 31/1000\n",
            "169/169 [==============================] - 1s 7ms/step - loss: 0.0888 - accuracy: 0.8546 - mean_squared_error: 0.0888 - mean_absolute_error: 0.2141 - mean_absolute_percentage_error: 108.0039 - cosine_proximity: 0.9621 - val_loss: 0.0800 - val_accuracy: 0.8867 - val_mean_squared_error: 0.0800 - val_mean_absolute_error: 0.1940 - val_mean_absolute_percentage_error: 68.2203 - val_cosine_proximity: 0.9682\n",
            "Epoch 32/1000\n",
            "169/169 [==============================] - 1s 7ms/step - loss: 0.0903 - accuracy: 0.8561 - mean_squared_error: 0.0903 - mean_absolute_error: 0.2159 - mean_absolute_percentage_error: 99.9508 - cosine_proximity: 0.9618 - val_loss: 0.0866 - val_accuracy: 0.8817 - val_mean_squared_error: 0.0866 - val_mean_absolute_error: 0.1933 - val_mean_absolute_percentage_error: 77.1478 - val_cosine_proximity: 0.9652\n",
            "Epoch 33/1000\n",
            "169/169 [==============================] - 1s 7ms/step - loss: 0.0873 - accuracy: 0.8631 - mean_squared_error: 0.0873 - mean_absolute_error: 0.2113 - mean_absolute_percentage_error: 117.2194 - cosine_proximity: 0.9624 - val_loss: 0.0815 - val_accuracy: 0.8733 - val_mean_squared_error: 0.0815 - val_mean_absolute_error: 0.1937 - val_mean_absolute_percentage_error: 67.4013 - val_cosine_proximity: 0.9666\n",
            "Epoch 34/1000\n",
            "169/169 [==============================] - 1s 7ms/step - loss: 0.0821 - accuracy: 0.8574 - mean_squared_error: 0.0821 - mean_absolute_error: 0.2059 - mean_absolute_percentage_error: 104.9770 - cosine_proximity: 0.9650 - val_loss: 0.0827 - val_accuracy: 0.8917 - val_mean_squared_error: 0.0827 - val_mean_absolute_error: 0.1990 - val_mean_absolute_percentage_error: 71.8153 - val_cosine_proximity: 0.9654\n",
            "Epoch 35/1000\n",
            "169/169 [==============================] - 1s 7ms/step - loss: 0.0850 - accuracy: 0.8620 - mean_squared_error: 0.0850 - mean_absolute_error: 0.2086 - mean_absolute_percentage_error: 114.3336 - cosine_proximity: 0.9634 - val_loss: 0.0708 - val_accuracy: 0.8867 - val_mean_squared_error: 0.0708 - val_mean_absolute_error: 0.1849 - val_mean_absolute_percentage_error: 71.5518 - val_cosine_proximity: 0.9711\n",
            "Epoch 36/1000\n",
            "169/169 [==============================] - 1s 7ms/step - loss: 0.0814 - accuracy: 0.8700 - mean_squared_error: 0.0814 - mean_absolute_error: 0.2058 - mean_absolute_percentage_error: 102.1932 - cosine_proximity: 0.9656 - val_loss: 0.0870 - val_accuracy: 0.8550 - val_mean_squared_error: 0.0870 - val_mean_absolute_error: 0.1964 - val_mean_absolute_percentage_error: 80.7943 - val_cosine_proximity: 0.9655\n",
            "Epoch 37/1000\n",
            "169/169 [==============================] - 1s 7ms/step - loss: 0.0804 - accuracy: 0.8670 - mean_squared_error: 0.0804 - mean_absolute_error: 0.2018 - mean_absolute_percentage_error: 101.8890 - cosine_proximity: 0.9656 - val_loss: 0.0752 - val_accuracy: 0.8817 - val_mean_squared_error: 0.0752 - val_mean_absolute_error: 0.1884 - val_mean_absolute_percentage_error: 65.1314 - val_cosine_proximity: 0.9715\n",
            "Epoch 38/1000\n",
            "169/169 [==============================] - 1s 7ms/step - loss: 0.0798 - accuracy: 0.8587 - mean_squared_error: 0.0798 - mean_absolute_error: 0.2018 - mean_absolute_percentage_error: 99.9407 - cosine_proximity: 0.9660 - val_loss: 0.0881 - val_accuracy: 0.8850 - val_mean_squared_error: 0.0881 - val_mean_absolute_error: 0.2050 - val_mean_absolute_percentage_error: 74.7171 - val_cosine_proximity: 0.9645\n",
            "Epoch 39/1000\n",
            "169/169 [==============================] - 1s 7ms/step - loss: 0.0782 - accuracy: 0.8669 - mean_squared_error: 0.0782 - mean_absolute_error: 0.2005 - mean_absolute_percentage_error: 93.9219 - cosine_proximity: 0.9666 - val_loss: 0.0761 - val_accuracy: 0.8800 - val_mean_squared_error: 0.0761 - val_mean_absolute_error: 0.1953 - val_mean_absolute_percentage_error: 89.4160 - val_cosine_proximity: 0.9676\n",
            "Epoch 40/1000\n",
            "169/169 [==============================] - 1s 6ms/step - loss: 0.0766 - accuracy: 0.8665 - mean_squared_error: 0.0766 - mean_absolute_error: 0.1960 - mean_absolute_percentage_error: 99.1649 - cosine_proximity: 0.9671 - val_loss: 0.0705 - val_accuracy: 0.8767 - val_mean_squared_error: 0.0705 - val_mean_absolute_error: 0.1838 - val_mean_absolute_percentage_error: 79.4881 - val_cosine_proximity: 0.9704\n",
            "Epoch 41/1000\n",
            "169/169 [==============================] - 1s 6ms/step - loss: 0.0760 - accuracy: 0.8659 - mean_squared_error: 0.0760 - mean_absolute_error: 0.1962 - mean_absolute_percentage_error: 95.2411 - cosine_proximity: 0.9675 - val_loss: 0.0668 - val_accuracy: 0.8833 - val_mean_squared_error: 0.0668 - val_mean_absolute_error: 0.1816 - val_mean_absolute_percentage_error: 85.8898 - val_cosine_proximity: 0.9710\n",
            "Epoch 42/1000\n",
            "169/169 [==============================] - 1s 7ms/step - loss: 0.0756 - accuracy: 0.8709 - mean_squared_error: 0.0756 - mean_absolute_error: 0.1959 - mean_absolute_percentage_error: 103.3152 - cosine_proximity: 0.9682 - val_loss: 0.0643 - val_accuracy: 0.8750 - val_mean_squared_error: 0.0643 - val_mean_absolute_error: 0.1742 - val_mean_absolute_percentage_error: 77.9561 - val_cosine_proximity: 0.9728\n",
            "Epoch 43/1000\n",
            "169/169 [==============================] - 1s 6ms/step - loss: 0.0735 - accuracy: 0.8769 - mean_squared_error: 0.0735 - mean_absolute_error: 0.1930 - mean_absolute_percentage_error: 91.5637 - cosine_proximity: 0.9689 - val_loss: 0.0698 - val_accuracy: 0.8850 - val_mean_squared_error: 0.0698 - val_mean_absolute_error: 0.1738 - val_mean_absolute_percentage_error: 67.2130 - val_cosine_proximity: 0.9718\n",
            "Epoch 44/1000\n",
            "169/169 [==============================] - 1s 7ms/step - loss: 0.0712 - accuracy: 0.8735 - mean_squared_error: 0.0712 - mean_absolute_error: 0.1892 - mean_absolute_percentage_error: 91.8264 - cosine_proximity: 0.9701 - val_loss: 0.0600 - val_accuracy: 0.8883 - val_mean_squared_error: 0.0600 - val_mean_absolute_error: 0.1630 - val_mean_absolute_percentage_error: 76.5255 - val_cosine_proximity: 0.9741\n",
            "Epoch 45/1000\n",
            "169/169 [==============================] - 1s 6ms/step - loss: 0.0697 - accuracy: 0.8778 - mean_squared_error: 0.0697 - mean_absolute_error: 0.1884 - mean_absolute_percentage_error: 94.6494 - cosine_proximity: 0.9701 - val_loss: 0.0628 - val_accuracy: 0.9033 - val_mean_squared_error: 0.0628 - val_mean_absolute_error: 0.1753 - val_mean_absolute_percentage_error: 65.3818 - val_cosine_proximity: 0.9748\n",
            "Epoch 46/1000\n",
            "169/169 [==============================] - 1s 7ms/step - loss: 0.0694 - accuracy: 0.8719 - mean_squared_error: 0.0694 - mean_absolute_error: 0.1878 - mean_absolute_percentage_error: 94.2162 - cosine_proximity: 0.9705 - val_loss: 0.0572 - val_accuracy: 0.9150 - val_mean_squared_error: 0.0572 - val_mean_absolute_error: 0.1611 - val_mean_absolute_percentage_error: 60.8500 - val_cosine_proximity: 0.9772\n",
            "Epoch 47/1000\n",
            "169/169 [==============================] - 1s 7ms/step - loss: 0.0673 - accuracy: 0.8859 - mean_squared_error: 0.0673 - mean_absolute_error: 0.1848 - mean_absolute_percentage_error: 98.0474 - cosine_proximity: 0.9717 - val_loss: 0.0724 - val_accuracy: 0.8983 - val_mean_squared_error: 0.0724 - val_mean_absolute_error: 0.1799 - val_mean_absolute_percentage_error: 60.5868 - val_cosine_proximity: 0.9732\n",
            "Epoch 48/1000\n",
            "169/169 [==============================] - 1s 7ms/step - loss: 0.0665 - accuracy: 0.8757 - mean_squared_error: 0.0665 - mean_absolute_error: 0.1832 - mean_absolute_percentage_error: 96.2892 - cosine_proximity: 0.9721 - val_loss: 0.0597 - val_accuracy: 0.9100 - val_mean_squared_error: 0.0597 - val_mean_absolute_error: 0.1637 - val_mean_absolute_percentage_error: 65.4851 - val_cosine_proximity: 0.9782\n",
            "Epoch 49/1000\n",
            "169/169 [==============================] - 1s 7ms/step - loss: 0.0642 - accuracy: 0.8778 - mean_squared_error: 0.0642 - mean_absolute_error: 0.1792 - mean_absolute_percentage_error: 91.5860 - cosine_proximity: 0.9727 - val_loss: 0.0512 - val_accuracy: 0.9033 - val_mean_squared_error: 0.0512 - val_mean_absolute_error: 0.1483 - val_mean_absolute_percentage_error: 59.2236 - val_cosine_proximity: 0.9803\n",
            "Epoch 50/1000\n",
            "169/169 [==============================] - 1s 7ms/step - loss: 0.0660 - accuracy: 0.8778 - mean_squared_error: 0.0660 - mean_absolute_error: 0.1823 - mean_absolute_percentage_error: 95.7764 - cosine_proximity: 0.9724 - val_loss: 0.0588 - val_accuracy: 0.8717 - val_mean_squared_error: 0.0588 - val_mean_absolute_error: 0.1668 - val_mean_absolute_percentage_error: 67.0315 - val_cosine_proximity: 0.9778\n",
            "Epoch 51/1000\n",
            "169/169 [==============================] - 1s 6ms/step - loss: 0.0661 - accuracy: 0.8804 - mean_squared_error: 0.0661 - mean_absolute_error: 0.1826 - mean_absolute_percentage_error: 96.5693 - cosine_proximity: 0.9723 - val_loss: 0.0533 - val_accuracy: 0.8900 - val_mean_squared_error: 0.0533 - val_mean_absolute_error: 0.1520 - val_mean_absolute_percentage_error: 64.5051 - val_cosine_proximity: 0.9792\n",
            "Epoch 52/1000\n",
            "169/169 [==============================] - 1s 7ms/step - loss: 0.0636 - accuracy: 0.8780 - mean_squared_error: 0.0636 - mean_absolute_error: 0.1785 - mean_absolute_percentage_error: 90.7977 - cosine_proximity: 0.9732 - val_loss: 0.0668 - val_accuracy: 0.8850 - val_mean_squared_error: 0.0668 - val_mean_absolute_error: 0.1738 - val_mean_absolute_percentage_error: 75.0207 - val_cosine_proximity: 0.9743\n",
            "Epoch 53/1000\n",
            "169/169 [==============================] - 1s 6ms/step - loss: 0.0641 - accuracy: 0.8878 - mean_squared_error: 0.0641 - mean_absolute_error: 0.1790 - mean_absolute_percentage_error: 93.0320 - cosine_proximity: 0.9733 - val_loss: 0.0775 - val_accuracy: 0.8967 - val_mean_squared_error: 0.0775 - val_mean_absolute_error: 0.1895 - val_mean_absolute_percentage_error: 80.5163 - val_cosine_proximity: 0.9664\n",
            "Epoch 54/1000\n",
            "169/169 [==============================] - 1s 7ms/step - loss: 0.0628 - accuracy: 0.8828 - mean_squared_error: 0.0628 - mean_absolute_error: 0.1783 - mean_absolute_percentage_error: 96.0640 - cosine_proximity: 0.9734 - val_loss: 0.0543 - val_accuracy: 0.8967 - val_mean_squared_error: 0.0543 - val_mean_absolute_error: 0.1558 - val_mean_absolute_percentage_error: 55.2170 - val_cosine_proximity: 0.9774\n",
            "Epoch 55/1000\n",
            "169/169 [==============================] - 1s 7ms/step - loss: 0.0637 - accuracy: 0.8789 - mean_squared_error: 0.0637 - mean_absolute_error: 0.1778 - mean_absolute_percentage_error: 89.9370 - cosine_proximity: 0.9727 - val_loss: 0.0775 - val_accuracy: 0.8517 - val_mean_squared_error: 0.0775 - val_mean_absolute_error: 0.2042 - val_mean_absolute_percentage_error: 102.1679 - val_cosine_proximity: 0.9641\n",
            "Epoch 56/1000\n",
            "169/169 [==============================] - 1s 7ms/step - loss: 0.0606 - accuracy: 0.8856 - mean_squared_error: 0.0606 - mean_absolute_error: 0.1745 - mean_absolute_percentage_error: 90.5990 - cosine_proximity: 0.9745 - val_loss: 0.0507 - val_accuracy: 0.8967 - val_mean_squared_error: 0.0507 - val_mean_absolute_error: 0.1485 - val_mean_absolute_percentage_error: 59.7680 - val_cosine_proximity: 0.9789\n",
            "Epoch 57/1000\n",
            "169/169 [==============================] - 1s 7ms/step - loss: 0.0618 - accuracy: 0.8815 - mean_squared_error: 0.0618 - mean_absolute_error: 0.1766 - mean_absolute_percentage_error: 86.0956 - cosine_proximity: 0.9735 - val_loss: 0.0646 - val_accuracy: 0.8800 - val_mean_squared_error: 0.0646 - val_mean_absolute_error: 0.1615 - val_mean_absolute_percentage_error: 71.6200 - val_cosine_proximity: 0.9752\n",
            "Epoch 58/1000\n",
            "169/169 [==============================] - 1s 7ms/step - loss: 0.0609 - accuracy: 0.8856 - mean_squared_error: 0.0609 - mean_absolute_error: 0.1742 - mean_absolute_percentage_error: 93.0708 - cosine_proximity: 0.9744 - val_loss: 0.0984 - val_accuracy: 0.8533 - val_mean_squared_error: 0.0984 - val_mean_absolute_error: 0.2236 - val_mean_absolute_percentage_error: 96.1667 - val_cosine_proximity: 0.9569\n",
            "Epoch 59/1000\n",
            "169/169 [==============================] - 1s 7ms/step - loss: 0.0584 - accuracy: 0.8900 - mean_squared_error: 0.0584 - mean_absolute_error: 0.1715 - mean_absolute_percentage_error: 93.1306 - cosine_proximity: 0.9753 - val_loss: 0.0511 - val_accuracy: 0.9000 - val_mean_squared_error: 0.0511 - val_mean_absolute_error: 0.1529 - val_mean_absolute_percentage_error: 68.5974 - val_cosine_proximity: 0.9787\n",
            "Epoch 60/1000\n",
            "169/169 [==============================] - 1s 7ms/step - loss: 0.0574 - accuracy: 0.8835 - mean_squared_error: 0.0574 - mean_absolute_error: 0.1692 - mean_absolute_percentage_error: 100.7984 - cosine_proximity: 0.9759 - val_loss: 0.0806 - val_accuracy: 0.8783 - val_mean_squared_error: 0.0806 - val_mean_absolute_error: 0.1948 - val_mean_absolute_percentage_error: 86.3035 - val_cosine_proximity: 0.9631\n",
            "Epoch 61/1000\n",
            "169/169 [==============================] - 1s 7ms/step - loss: 0.0577 - accuracy: 0.8828 - mean_squared_error: 0.0577 - mean_absolute_error: 0.1698 - mean_absolute_percentage_error: 85.4391 - cosine_proximity: 0.9761 - val_loss: 0.0504 - val_accuracy: 0.8967 - val_mean_squared_error: 0.0504 - val_mean_absolute_error: 0.1509 - val_mean_absolute_percentage_error: 64.9215 - val_cosine_proximity: 0.9781\n",
            "Epoch 62/1000\n",
            "169/169 [==============================] - 1s 7ms/step - loss: 0.0590 - accuracy: 0.8835 - mean_squared_error: 0.0590 - mean_absolute_error: 0.1725 - mean_absolute_percentage_error: 87.5661 - cosine_proximity: 0.9751 - val_loss: 0.0483 - val_accuracy: 0.9133 - val_mean_squared_error: 0.0483 - val_mean_absolute_error: 0.1406 - val_mean_absolute_percentage_error: 52.3521 - val_cosine_proximity: 0.9807\n",
            "Epoch 63/1000\n",
            "169/169 [==============================] - 1s 7ms/step - loss: 0.0567 - accuracy: 0.8878 - mean_squared_error: 0.0567 - mean_absolute_error: 0.1685 - mean_absolute_percentage_error: 92.3788 - cosine_proximity: 0.9760 - val_loss: 0.0445 - val_accuracy: 0.9167 - val_mean_squared_error: 0.0445 - val_mean_absolute_error: 0.1338 - val_mean_absolute_percentage_error: 48.9870 - val_cosine_proximity: 0.9830\n",
            "Epoch 64/1000\n",
            "169/169 [==============================] - 1s 7ms/step - loss: 0.0570 - accuracy: 0.8780 - mean_squared_error: 0.0570 - mean_absolute_error: 0.1685 - mean_absolute_percentage_error: 84.4018 - cosine_proximity: 0.9759 - val_loss: 0.0481 - val_accuracy: 0.9117 - val_mean_squared_error: 0.0481 - val_mean_absolute_error: 0.1467 - val_mean_absolute_percentage_error: 61.2037 - val_cosine_proximity: 0.9807\n",
            "Epoch 65/1000\n",
            "169/169 [==============================] - 1s 7ms/step - loss: 0.0535 - accuracy: 0.8900 - mean_squared_error: 0.0535 - mean_absolute_error: 0.1632 - mean_absolute_percentage_error: 76.8366 - cosine_proximity: 0.9776 - val_loss: 0.0708 - val_accuracy: 0.8767 - val_mean_squared_error: 0.0708 - val_mean_absolute_error: 0.1795 - val_mean_absolute_percentage_error: 68.1458 - val_cosine_proximity: 0.9706\n",
            "Epoch 66/1000\n",
            "169/169 [==============================] - 1s 7ms/step - loss: 0.0552 - accuracy: 0.8893 - mean_squared_error: 0.0552 - mean_absolute_error: 0.1667 - mean_absolute_percentage_error: 86.4203 - cosine_proximity: 0.9770 - val_loss: 0.0509 - val_accuracy: 0.8817 - val_mean_squared_error: 0.0509 - val_mean_absolute_error: 0.1477 - val_mean_absolute_percentage_error: 54.1834 - val_cosine_proximity: 0.9796\n",
            "Epoch 67/1000\n",
            "169/169 [==============================] - 1s 7ms/step - loss: 0.0552 - accuracy: 0.8915 - mean_squared_error: 0.0552 - mean_absolute_error: 0.1663 - mean_absolute_percentage_error: 86.5528 - cosine_proximity: 0.9770 - val_loss: 0.0590 - val_accuracy: 0.8950 - val_mean_squared_error: 0.0590 - val_mean_absolute_error: 0.1665 - val_mean_absolute_percentage_error: 70.0566 - val_cosine_proximity: 0.9748\n",
            "Epoch 68/1000\n",
            "169/169 [==============================] - 1s 7ms/step - loss: 0.0539 - accuracy: 0.8919 - mean_squared_error: 0.0539 - mean_absolute_error: 0.1632 - mean_absolute_percentage_error: 84.9067 - cosine_proximity: 0.9778 - val_loss: 0.0544 - val_accuracy: 0.8733 - val_mean_squared_error: 0.0544 - val_mean_absolute_error: 0.1530 - val_mean_absolute_percentage_error: 59.8441 - val_cosine_proximity: 0.9775\n",
            "Epoch 69/1000\n",
            "169/169 [==============================] - 1s 7ms/step - loss: 0.0527 - accuracy: 0.8889 - mean_squared_error: 0.0527 - mean_absolute_error: 0.1620 - mean_absolute_percentage_error: 84.5828 - cosine_proximity: 0.9780 - val_loss: 0.0622 - val_accuracy: 0.8933 - val_mean_squared_error: 0.0622 - val_mean_absolute_error: 0.1604 - val_mean_absolute_percentage_error: 70.2236 - val_cosine_proximity: 0.9749\n",
            "Epoch 70/1000\n",
            "169/169 [==============================] - 1s 7ms/step - loss: 0.0553 - accuracy: 0.8872 - mean_squared_error: 0.0553 - mean_absolute_error: 0.1655 - mean_absolute_percentage_error: 86.7354 - cosine_proximity: 0.9768 - val_loss: 0.0425 - val_accuracy: 0.9133 - val_mean_squared_error: 0.0425 - val_mean_absolute_error: 0.1312 - val_mean_absolute_percentage_error: 46.3104 - val_cosine_proximity: 0.9825\n",
            "Epoch 71/1000\n",
            "169/169 [==============================] - 1s 7ms/step - loss: 0.0535 - accuracy: 0.8930 - mean_squared_error: 0.0535 - mean_absolute_error: 0.1637 - mean_absolute_percentage_error: 89.3528 - cosine_proximity: 0.9775 - val_loss: 0.0496 - val_accuracy: 0.9133 - val_mean_squared_error: 0.0496 - val_mean_absolute_error: 0.1465 - val_mean_absolute_percentage_error: 49.8967 - val_cosine_proximity: 0.9805\n",
            "Epoch 72/1000\n",
            "169/169 [==============================] - 1s 7ms/step - loss: 0.0515 - accuracy: 0.8870 - mean_squared_error: 0.0515 - mean_absolute_error: 0.1603 - mean_absolute_percentage_error: 85.5811 - cosine_proximity: 0.9782 - val_loss: 0.0469 - val_accuracy: 0.9100 - val_mean_squared_error: 0.0469 - val_mean_absolute_error: 0.1461 - val_mean_absolute_percentage_error: 61.9202 - val_cosine_proximity: 0.9799\n",
            "Epoch 73/1000\n",
            "169/169 [==============================] - 1s 7ms/step - loss: 0.0509 - accuracy: 0.8937 - mean_squared_error: 0.0509 - mean_absolute_error: 0.1596 - mean_absolute_percentage_error: 85.0084 - cosine_proximity: 0.9792 - val_loss: 0.0430 - val_accuracy: 0.9167 - val_mean_squared_error: 0.0430 - val_mean_absolute_error: 0.1357 - val_mean_absolute_percentage_error: 46.9423 - val_cosine_proximity: 0.9820\n",
            "Epoch 74/1000\n",
            "169/169 [==============================] - 1s 7ms/step - loss: 0.0510 - accuracy: 0.8896 - mean_squared_error: 0.0510 - mean_absolute_error: 0.1595 - mean_absolute_percentage_error: 81.1122 - cosine_proximity: 0.9784 - val_loss: 0.0548 - val_accuracy: 0.8833 - val_mean_squared_error: 0.0548 - val_mean_absolute_error: 0.1559 - val_mean_absolute_percentage_error: 61.5862 - val_cosine_proximity: 0.9776\n",
            "Epoch 75/1000\n",
            "169/169 [==============================] - 1s 7ms/step - loss: 0.0525 - accuracy: 0.8926 - mean_squared_error: 0.0525 - mean_absolute_error: 0.1611 - mean_absolute_percentage_error: 85.1473 - cosine_proximity: 0.9782 - val_loss: 0.0515 - val_accuracy: 0.8867 - val_mean_squared_error: 0.0515 - val_mean_absolute_error: 0.1512 - val_mean_absolute_percentage_error: 60.9105 - val_cosine_proximity: 0.9777\n",
            "Epoch 76/1000\n",
            "169/169 [==============================] - 1s 7ms/step - loss: 0.0506 - accuracy: 0.8926 - mean_squared_error: 0.0506 - mean_absolute_error: 0.1598 - mean_absolute_percentage_error: 89.6110 - cosine_proximity: 0.9787 - val_loss: 0.0486 - val_accuracy: 0.9017 - val_mean_squared_error: 0.0486 - val_mean_absolute_error: 0.1437 - val_mean_absolute_percentage_error: 51.4015 - val_cosine_proximity: 0.9795\n",
            "Epoch 77/1000\n",
            "169/169 [==============================] - 1s 7ms/step - loss: 0.0500 - accuracy: 0.8941 - mean_squared_error: 0.0500 - mean_absolute_error: 0.1574 - mean_absolute_percentage_error: 77.5498 - cosine_proximity: 0.9792 - val_loss: 0.0418 - val_accuracy: 0.9067 - val_mean_squared_error: 0.0418 - val_mean_absolute_error: 0.1302 - val_mean_absolute_percentage_error: 47.6931 - val_cosine_proximity: 0.9832\n",
            "Epoch 78/1000\n",
            "169/169 [==============================] - 1s 7ms/step - loss: 0.0499 - accuracy: 0.8904 - mean_squared_error: 0.0499 - mean_absolute_error: 0.1571 - mean_absolute_percentage_error: 82.3115 - cosine_proximity: 0.9791 - val_loss: 0.0620 - val_accuracy: 0.8983 - val_mean_squared_error: 0.0620 - val_mean_absolute_error: 0.1635 - val_mean_absolute_percentage_error: 56.9302 - val_cosine_proximity: 0.9762\n",
            "Epoch 79/1000\n",
            "169/169 [==============================] - 1s 7ms/step - loss: 0.0517 - accuracy: 0.8959 - mean_squared_error: 0.0517 - mean_absolute_error: 0.1608 - mean_absolute_percentage_error: 80.1390 - cosine_proximity: 0.9784 - val_loss: 0.0605 - val_accuracy: 0.8933 - val_mean_squared_error: 0.0605 - val_mean_absolute_error: 0.1693 - val_mean_absolute_percentage_error: 61.7438 - val_cosine_proximity: 0.9749\n",
            "Epoch 80/1000\n",
            "169/169 [==============================] - 1s 7ms/step - loss: 0.0504 - accuracy: 0.8943 - mean_squared_error: 0.0504 - mean_absolute_error: 0.1575 - mean_absolute_percentage_error: 84.8186 - cosine_proximity: 0.9791 - val_loss: 0.0476 - val_accuracy: 0.9117 - val_mean_squared_error: 0.0476 - val_mean_absolute_error: 0.1420 - val_mean_absolute_percentage_error: 48.6729 - val_cosine_proximity: 0.9811\n",
            "Epoch 81/1000\n",
            "169/169 [==============================] - 1s 7ms/step - loss: 0.0471 - accuracy: 0.8993 - mean_squared_error: 0.0471 - mean_absolute_error: 0.1537 - mean_absolute_percentage_error: 76.4336 - cosine_proximity: 0.9806 - val_loss: 0.0470 - val_accuracy: 0.8883 - val_mean_squared_error: 0.0470 - val_mean_absolute_error: 0.1436 - val_mean_absolute_percentage_error: 50.7354 - val_cosine_proximity: 0.9801\n",
            "Epoch 82/1000\n",
            "169/169 [==============================] - 1s 7ms/step - loss: 0.0480 - accuracy: 0.9002 - mean_squared_error: 0.0480 - mean_absolute_error: 0.1544 - mean_absolute_percentage_error: 80.4411 - cosine_proximity: 0.9801 - val_loss: 0.0869 - val_accuracy: 0.8917 - val_mean_squared_error: 0.0869 - val_mean_absolute_error: 0.1973 - val_mean_absolute_percentage_error: 73.7039 - val_cosine_proximity: 0.9659\n",
            "Epoch 83/1000\n",
            "169/169 [==============================] - 1s 7ms/step - loss: 0.0488 - accuracy: 0.9037 - mean_squared_error: 0.0488 - mean_absolute_error: 0.1563 - mean_absolute_percentage_error: 73.8521 - cosine_proximity: 0.9797 - val_loss: 0.0450 - val_accuracy: 0.9050 - val_mean_squared_error: 0.0450 - val_mean_absolute_error: 0.1413 - val_mean_absolute_percentage_error: 40.0801 - val_cosine_proximity: 0.9834\n",
            "Epoch 84/1000\n",
            "169/169 [==============================] - 1s 7ms/step - loss: 0.0477 - accuracy: 0.9011 - mean_squared_error: 0.0477 - mean_absolute_error: 0.1542 - mean_absolute_percentage_error: 78.4794 - cosine_proximity: 0.9801 - val_loss: 0.0404 - val_accuracy: 0.9083 - val_mean_squared_error: 0.0404 - val_mean_absolute_error: 0.1288 - val_mean_absolute_percentage_error: 46.7734 - val_cosine_proximity: 0.9842\n",
            "Epoch 85/1000\n",
            "169/169 [==============================] - 1s 7ms/step - loss: 0.0480 - accuracy: 0.8978 - mean_squared_error: 0.0480 - mean_absolute_error: 0.1547 - mean_absolute_percentage_error: 79.7389 - cosine_proximity: 0.9804 - val_loss: 0.0472 - val_accuracy: 0.9133 - val_mean_squared_error: 0.0472 - val_mean_absolute_error: 0.1448 - val_mean_absolute_percentage_error: 66.1899 - val_cosine_proximity: 0.9813\n",
            "Epoch 86/1000\n",
            "169/169 [==============================] - 1s 7ms/step - loss: 0.0467 - accuracy: 0.9004 - mean_squared_error: 0.0467 - mean_absolute_error: 0.1530 - mean_absolute_percentage_error: 79.8788 - cosine_proximity: 0.9807 - val_loss: 0.0383 - val_accuracy: 0.9033 - val_mean_squared_error: 0.0383 - val_mean_absolute_error: 0.1237 - val_mean_absolute_percentage_error: 53.4076 - val_cosine_proximity: 0.9847\n",
            "Epoch 87/1000\n",
            "169/169 [==============================] - 1s 7ms/step - loss: 0.0474 - accuracy: 0.8944 - mean_squared_error: 0.0474 - mean_absolute_error: 0.1531 - mean_absolute_percentage_error: 75.6577 - cosine_proximity: 0.9804 - val_loss: 0.0402 - val_accuracy: 0.9117 - val_mean_squared_error: 0.0402 - val_mean_absolute_error: 0.1297 - val_mean_absolute_percentage_error: 47.5205 - val_cosine_proximity: 0.9833\n",
            "Epoch 88/1000\n",
            "169/169 [==============================] - 1s 7ms/step - loss: 0.0487 - accuracy: 0.8919 - mean_squared_error: 0.0487 - mean_absolute_error: 0.1548 - mean_absolute_percentage_error: 76.2915 - cosine_proximity: 0.9800 - val_loss: 0.0446 - val_accuracy: 0.9000 - val_mean_squared_error: 0.0446 - val_mean_absolute_error: 0.1398 - val_mean_absolute_percentage_error: 52.4827 - val_cosine_proximity: 0.9825\n",
            "Epoch 89/1000\n",
            "169/169 [==============================] - 1s 7ms/step - loss: 0.0492 - accuracy: 0.8978 - mean_squared_error: 0.0492 - mean_absolute_error: 0.1567 - mean_absolute_percentage_error: 80.4690 - cosine_proximity: 0.9793 - val_loss: 0.0446 - val_accuracy: 0.9050 - val_mean_squared_error: 0.0446 - val_mean_absolute_error: 0.1445 - val_mean_absolute_percentage_error: 58.1587 - val_cosine_proximity: 0.9813\n",
            "Epoch 90/1000\n",
            "169/169 [==============================] - 1s 7ms/step - loss: 0.0464 - accuracy: 0.8974 - mean_squared_error: 0.0464 - mean_absolute_error: 0.1522 - mean_absolute_percentage_error: 78.8492 - cosine_proximity: 0.9808 - val_loss: 0.0421 - val_accuracy: 0.9100 - val_mean_squared_error: 0.0421 - val_mean_absolute_error: 0.1329 - val_mean_absolute_percentage_error: 50.2104 - val_cosine_proximity: 0.9833\n",
            "Epoch 91/1000\n",
            "169/169 [==============================] - 1s 7ms/step - loss: 0.0449 - accuracy: 0.8994 - mean_squared_error: 0.0449 - mean_absolute_error: 0.1495 - mean_absolute_percentage_error: 76.5972 - cosine_proximity: 0.9814 - val_loss: 0.0389 - val_accuracy: 0.9050 - val_mean_squared_error: 0.0389 - val_mean_absolute_error: 0.1287 - val_mean_absolute_percentage_error: 53.8087 - val_cosine_proximity: 0.9833\n",
            "Epoch 92/1000\n",
            "169/169 [==============================] - 1s 7ms/step - loss: 0.0457 - accuracy: 0.8935 - mean_squared_error: 0.0457 - mean_absolute_error: 0.1503 - mean_absolute_percentage_error: 78.6756 - cosine_proximity: 0.9810 - val_loss: 0.0357 - val_accuracy: 0.9217 - val_mean_squared_error: 0.0357 - val_mean_absolute_error: 0.1196 - val_mean_absolute_percentage_error: 40.5665 - val_cosine_proximity: 0.9869\n",
            "Epoch 93/1000\n",
            "169/169 [==============================] - 1s 7ms/step - loss: 0.0461 - accuracy: 0.8976 - mean_squared_error: 0.0461 - mean_absolute_error: 0.1502 - mean_absolute_percentage_error: 81.1874 - cosine_proximity: 0.9810 - val_loss: 0.0390 - val_accuracy: 0.9150 - val_mean_squared_error: 0.0390 - val_mean_absolute_error: 0.1278 - val_mean_absolute_percentage_error: 47.8255 - val_cosine_proximity: 0.9847\n",
            "Epoch 94/1000\n",
            "169/169 [==============================] - 1s 7ms/step - loss: 0.0452 - accuracy: 0.8974 - mean_squared_error: 0.0452 - mean_absolute_error: 0.1490 - mean_absolute_percentage_error: 72.5322 - cosine_proximity: 0.9813 - val_loss: 0.0395 - val_accuracy: 0.9233 - val_mean_squared_error: 0.0395 - val_mean_absolute_error: 0.1310 - val_mean_absolute_percentage_error: 46.5354 - val_cosine_proximity: 0.9840\n",
            "Epoch 95/1000\n",
            "169/169 [==============================] - 1s 7ms/step - loss: 0.0454 - accuracy: 0.9006 - mean_squared_error: 0.0454 - mean_absolute_error: 0.1498 - mean_absolute_percentage_error: 77.9650 - cosine_proximity: 0.9814 - val_loss: 0.0390 - val_accuracy: 0.9083 - val_mean_squared_error: 0.0390 - val_mean_absolute_error: 0.1252 - val_mean_absolute_percentage_error: 51.4934 - val_cosine_proximity: 0.9844\n",
            "Epoch 96/1000\n",
            "169/169 [==============================] - 1s 7ms/step - loss: 0.0447 - accuracy: 0.9057 - mean_squared_error: 0.0447 - mean_absolute_error: 0.1486 - mean_absolute_percentage_error: 76.1053 - cosine_proximity: 0.9817 - val_loss: 0.0393 - val_accuracy: 0.9133 - val_mean_squared_error: 0.0393 - val_mean_absolute_error: 0.1351 - val_mean_absolute_percentage_error: 58.0654 - val_cosine_proximity: 0.9843\n",
            "Epoch 97/1000\n",
            "169/169 [==============================] - 1s 7ms/step - loss: 0.0438 - accuracy: 0.9041 - mean_squared_error: 0.0438 - mean_absolute_error: 0.1469 - mean_absolute_percentage_error: 78.4230 - cosine_proximity: 0.9816 - val_loss: 0.0371 - val_accuracy: 0.9133 - val_mean_squared_error: 0.0371 - val_mean_absolute_error: 0.1242 - val_mean_absolute_percentage_error: 48.0522 - val_cosine_proximity: 0.9851\n",
            "Epoch 98/1000\n",
            "169/169 [==============================] - 1s 7ms/step - loss: 0.0462 - accuracy: 0.8969 - mean_squared_error: 0.0462 - mean_absolute_error: 0.1516 - mean_absolute_percentage_error: 77.0810 - cosine_proximity: 0.9807 - val_loss: 0.0409 - val_accuracy: 0.8917 - val_mean_squared_error: 0.0409 - val_mean_absolute_error: 0.1342 - val_mean_absolute_percentage_error: 52.2205 - val_cosine_proximity: 0.9833\n",
            "Epoch 99/1000\n",
            "169/169 [==============================] - 1s 7ms/step - loss: 0.0442 - accuracy: 0.9074 - mean_squared_error: 0.0442 - mean_absolute_error: 0.1476 - mean_absolute_percentage_error: 71.7631 - cosine_proximity: 0.9816 - val_loss: 0.0429 - val_accuracy: 0.9200 - val_mean_squared_error: 0.0429 - val_mean_absolute_error: 0.1394 - val_mean_absolute_percentage_error: 52.5468 - val_cosine_proximity: 0.9840\n",
            "Epoch 100/1000\n",
            "169/169 [==============================] - 1s 7ms/step - loss: 0.0441 - accuracy: 0.9046 - mean_squared_error: 0.0441 - mean_absolute_error: 0.1476 - mean_absolute_percentage_error: 75.8312 - cosine_proximity: 0.9817 - val_loss: 0.0443 - val_accuracy: 0.9200 - val_mean_squared_error: 0.0443 - val_mean_absolute_error: 0.1333 - val_mean_absolute_percentage_error: 45.3100 - val_cosine_proximity: 0.9836\n",
            "Epoch 101/1000\n",
            "169/169 [==============================] - 1s 7ms/step - loss: 0.0427 - accuracy: 0.9070 - mean_squared_error: 0.0427 - mean_absolute_error: 0.1447 - mean_absolute_percentage_error: 71.5307 - cosine_proximity: 0.9821 - val_loss: 0.0352 - val_accuracy: 0.9200 - val_mean_squared_error: 0.0352 - val_mean_absolute_error: 0.1176 - val_mean_absolute_percentage_error: 48.0717 - val_cosine_proximity: 0.9863\n",
            "Epoch 102/1000\n",
            "169/169 [==============================] - 1s 7ms/step - loss: 0.0440 - accuracy: 0.8996 - mean_squared_error: 0.0440 - mean_absolute_error: 0.1476 - mean_absolute_percentage_error: 77.5519 - cosine_proximity: 0.9819 - val_loss: 0.0444 - val_accuracy: 0.9133 - val_mean_squared_error: 0.0444 - val_mean_absolute_error: 0.1431 - val_mean_absolute_percentage_error: 47.1522 - val_cosine_proximity: 0.9831\n",
            "Epoch 103/1000\n",
            "169/169 [==============================] - 1s 7ms/step - loss: 0.0435 - accuracy: 0.9022 - mean_squared_error: 0.0435 - mean_absolute_error: 0.1471 - mean_absolute_percentage_error: 83.7874 - cosine_proximity: 0.9820 - val_loss: 0.0341 - val_accuracy: 0.9150 - val_mean_squared_error: 0.0341 - val_mean_absolute_error: 0.1187 - val_mean_absolute_percentage_error: 48.2380 - val_cosine_proximity: 0.9867\n",
            "Epoch 104/1000\n",
            "169/169 [==============================] - 1s 7ms/step - loss: 0.0435 - accuracy: 0.9039 - mean_squared_error: 0.0435 - mean_absolute_error: 0.1469 - mean_absolute_percentage_error: 79.3476 - cosine_proximity: 0.9820 - val_loss: 0.0435 - val_accuracy: 0.9000 - val_mean_squared_error: 0.0435 - val_mean_absolute_error: 0.1444 - val_mean_absolute_percentage_error: 63.8181 - val_cosine_proximity: 0.9814\n",
            "Epoch 105/1000\n",
            "169/169 [==============================] - 1s 7ms/step - loss: 0.0414 - accuracy: 0.9011 - mean_squared_error: 0.0414 - mean_absolute_error: 0.1438 - mean_absolute_percentage_error: 78.4867 - cosine_proximity: 0.9828 - val_loss: 0.0465 - val_accuracy: 0.9100 - val_mean_squared_error: 0.0465 - val_mean_absolute_error: 0.1361 - val_mean_absolute_percentage_error: 53.4615 - val_cosine_proximity: 0.9814\n",
            "Epoch 106/1000\n",
            "169/169 [==============================] - 1s 7ms/step - loss: 0.0416 - accuracy: 0.9019 - mean_squared_error: 0.0416 - mean_absolute_error: 0.1449 - mean_absolute_percentage_error: 68.9600 - cosine_proximity: 0.9826 - val_loss: 0.0396 - val_accuracy: 0.9033 - val_mean_squared_error: 0.0396 - val_mean_absolute_error: 0.1288 - val_mean_absolute_percentage_error: 42.7147 - val_cosine_proximity: 0.9847\n",
            "Epoch 107/1000\n",
            "169/169 [==============================] - 1s 7ms/step - loss: 0.0435 - accuracy: 0.9017 - mean_squared_error: 0.0435 - mean_absolute_error: 0.1472 - mean_absolute_percentage_error: 83.7927 - cosine_proximity: 0.9816 - val_loss: 0.0635 - val_accuracy: 0.9067 - val_mean_squared_error: 0.0635 - val_mean_absolute_error: 0.1815 - val_mean_absolute_percentage_error: 57.3548 - val_cosine_proximity: 0.9748\n",
            "Epoch 108/1000\n",
            "169/169 [==============================] - 1s 7ms/step - loss: 0.0421 - accuracy: 0.9017 - mean_squared_error: 0.0421 - mean_absolute_error: 0.1442 - mean_absolute_percentage_error: 86.5053 - cosine_proximity: 0.9826 - val_loss: 0.0639 - val_accuracy: 0.8633 - val_mean_squared_error: 0.0639 - val_mean_absolute_error: 0.1680 - val_mean_absolute_percentage_error: 64.5857 - val_cosine_proximity: 0.9747\n",
            "Epoch 109/1000\n",
            "169/169 [==============================] - 1s 7ms/step - loss: 0.0418 - accuracy: 0.9035 - mean_squared_error: 0.0418 - mean_absolute_error: 0.1438 - mean_absolute_percentage_error: 72.6752 - cosine_proximity: 0.9826 - val_loss: 0.0391 - val_accuracy: 0.9100 - val_mean_squared_error: 0.0391 - val_mean_absolute_error: 0.1285 - val_mean_absolute_percentage_error: 54.3111 - val_cosine_proximity: 0.9839\n",
            "Epoch 110/1000\n",
            "169/169 [==============================] - 1s 7ms/step - loss: 0.0427 - accuracy: 0.8987 - mean_squared_error: 0.0427 - mean_absolute_error: 0.1456 - mean_absolute_percentage_error: 74.6220 - cosine_proximity: 0.9824 - val_loss: 0.0393 - val_accuracy: 0.9133 - val_mean_squared_error: 0.0393 - val_mean_absolute_error: 0.1253 - val_mean_absolute_percentage_error: 45.7474 - val_cosine_proximity: 0.9847\n",
            "Epoch 111/1000\n",
            "169/169 [==============================] - 1s 8ms/step - loss: 0.0413 - accuracy: 0.9044 - mean_squared_error: 0.0413 - mean_absolute_error: 0.1423 - mean_absolute_percentage_error: 71.3437 - cosine_proximity: 0.9831 - val_loss: 0.0407 - val_accuracy: 0.9150 - val_mean_squared_error: 0.0407 - val_mean_absolute_error: 0.1269 - val_mean_absolute_percentage_error: 45.6227 - val_cosine_proximity: 0.9847\n",
            "Epoch 112/1000\n",
            "169/169 [==============================] - 1s 7ms/step - loss: 0.0414 - accuracy: 0.9096 - mean_squared_error: 0.0414 - mean_absolute_error: 0.1434 - mean_absolute_percentage_error: 71.4943 - cosine_proximity: 0.9828 - val_loss: 0.0582 - val_accuracy: 0.8867 - val_mean_squared_error: 0.0582 - val_mean_absolute_error: 0.1563 - val_mean_absolute_percentage_error: 55.5800 - val_cosine_proximity: 0.9769\n",
            "Epoch 113/1000\n",
            "169/169 [==============================] - 1s 7ms/step - loss: 0.0405 - accuracy: 0.9074 - mean_squared_error: 0.0405 - mean_absolute_error: 0.1414 - mean_absolute_percentage_error: 73.6450 - cosine_proximity: 0.9831 - val_loss: 0.0475 - val_accuracy: 0.9150 - val_mean_squared_error: 0.0475 - val_mean_absolute_error: 0.1480 - val_mean_absolute_percentage_error: 55.7280 - val_cosine_proximity: 0.9821\n",
            "Epoch 114/1000\n",
            "169/169 [==============================] - 1s 7ms/step - loss: 0.0411 - accuracy: 0.8993 - mean_squared_error: 0.0411 - mean_absolute_error: 0.1424 - mean_absolute_percentage_error: 75.2519 - cosine_proximity: 0.9830 - val_loss: 0.0414 - val_accuracy: 0.9017 - val_mean_squared_error: 0.0414 - val_mean_absolute_error: 0.1281 - val_mean_absolute_percentage_error: 43.4419 - val_cosine_proximity: 0.9841\n",
            "Epoch 115/1000\n",
            "169/169 [==============================] - 1s 7ms/step - loss: 0.0422 - accuracy: 0.9015 - mean_squared_error: 0.0422 - mean_absolute_error: 0.1435 - mean_absolute_percentage_error: 73.6415 - cosine_proximity: 0.9827 - val_loss: 0.0547 - val_accuracy: 0.8733 - val_mean_squared_error: 0.0547 - val_mean_absolute_error: 0.1645 - val_mean_absolute_percentage_error: 74.4286 - val_cosine_proximity: 0.9758\n",
            "Epoch 116/1000\n",
            "169/169 [==============================] - 1s 7ms/step - loss: 0.0393 - accuracy: 0.9072 - mean_squared_error: 0.0393 - mean_absolute_error: 0.1397 - mean_absolute_percentage_error: 73.7147 - cosine_proximity: 0.9837 - val_loss: 0.0375 - val_accuracy: 0.9183 - val_mean_squared_error: 0.0375 - val_mean_absolute_error: 0.1271 - val_mean_absolute_percentage_error: 52.2894 - val_cosine_proximity: 0.9845\n",
            "Epoch 117/1000\n",
            "106/169 [=================>............] - ETA: 0s - loss: 0.0389 - accuracy: 0.9027 - mean_squared_error: 0.0389 - mean_absolute_error: 0.1395 - mean_absolute_percentage_error: 82.2473 - cosine_proximity: 0.9838"
          ]
        }
      ]
    },
    {
      "cell_type": "code",
      "source": [
        "\n",
        "\n",
        "\n",
        "################################\n",
        "#Model Evaluation\n",
        "################################\n",
        "\n",
        "\n",
        "\n",
        "\n",
        "\n",
        "def evaluate_metrics(model,X_test,y_test):\n",
        "  X_test = sc_X.inverse_transform(X_test)\n",
        "  Y_test= scalery.inverse_transform(y_test)\n",
        "  return model.Evaluate(X_test, Y_test)\n",
        "\n",
        "\n",
        "#Evaluate the created model\n",
        "#Loss, Accuracy, MSE, PME\n",
        "\n",
        "\n",
        "\n",
        "x_test=x_test.reshape(x_test.shape[0], x_test.shape[1])\n",
        "metric_scores=evaluate_metrics(model,x_test,y_test)\n",
        "\n",
        "\n",
        "y_test= scalery.inverse_transform(y_test)\n",
        "y_train= scalery.inverse_transform(y_train)\n",
        "\n",
        "\n",
        "\n"
      ],
      "metadata": {
        "id": "ntlQV_hgqt90",
        "colab": {
          "base_uri": "https://localhost:8080/"
        },
        "outputId": "263ba7e7-a37c-493f-f8d6-51fc3326e57a"
      },
      "execution_count": 47,
      "outputs": [
        {
          "output_type": "stream",
          "name": "stdout",
          "text": [
            "5/5 [==============================] - 0s 5ms/step - loss: 0.0394 - accuracy: 0.9367 - mean_squared_error: 0.0394 - mean_absolute_error: 0.1165 - mean_absolute_percentage_error: 35.7743 - cosine_proximity: 0.9847\n"
          ]
        }
      ]
    },
    {
      "cell_type": "code",
      "source": [
        "\n",
        "# summarize history for accuracy\n",
        "\n",
        "\n",
        "\n",
        "\n",
        "\n",
        "\n",
        "# summarize history for loss\n",
        "plt.plot(model.History('loss'))\n",
        "plt.plot(model.History('val_loss'))\n",
        "plt.title('model loss')\n",
        "plt.ylabel('loss')\n",
        "plt.xlabel('epoch')\n",
        "plt.legend(['train', 'test'], loc='upper left')\n",
        "\n",
        "\n",
        "val_loss= model.History('val_loss')[-1]\n",
        "loss=model.History('loss')[-1]\n",
        "print(\"\\n Loss on on Validation data (Test Data):  \",model.History('val_loss')[-1])\n",
        "print(\"\\n Loss on Training data:  \",model.History('loss')[-1])\n",
        "\n",
        "plt.savefig(\"D.pdf\")\n",
        "plt.show()\n",
        "\n",
        "\n"
      ],
      "metadata": {
        "colab": {
          "base_uri": "https://localhost:8080/",
          "height": 366
        },
        "id": "Cm6-j7CyUd5I",
        "outputId": "75054e3e-68c4-4df5-9528-eee7d473ba7e"
      },
      "execution_count": 48,
      "outputs": [
        {
          "output_type": "stream",
          "name": "stdout",
          "text": [
            "\n",
            " Loss on on Validation data (Test Data):   0.03940243273973465\n",
            "\n",
            " Loss on Training data:   0.010031197220087051\n"
          ]
        },
        {
          "output_type": "display_data",
          "data": {
            "text/plain": [
              "<Figure size 432x288 with 1 Axes>"
            ],
            "image/png": "[encoded data removed]"
          },
          "metadata": {
            "needs_background": "light"
          }
        }
      ]
    }
  ]
}